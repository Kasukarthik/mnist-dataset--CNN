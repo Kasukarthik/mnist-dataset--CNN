{
 "cells": [
  {
   "cell_type": "code",
   "execution_count": 60,
   "id": "9b93fbde",
   "metadata": {},
   "outputs": [],
   "source": [
    "import tensorflow as tf\n",
    "import keras\n",
    "from keras import datasets\n",
    "from keras.utils import to_categorical\n",
    "from matplotlib import pyplot as plt\n",
    "from keras.models import Sequential\n",
    "from keras.layers import Conv2D,MaxPooling2D,Flatten,Dense,CuDNNLSTM,Dropout\n",
    "import pandas as pd"
   ]
  },
  {
   "cell_type": "code",
   "execution_count": 61,
   "id": "a860f083",
   "metadata": {},
   "outputs": [],
   "source": [
    "(xtrain,ytrain),(xtest,ytest)=datasets.mnist.load_data()"
   ]
  },
  {
   "cell_type": "code",
   "execution_count": 62,
   "id": "f8636930",
   "metadata": {},
   "outputs": [
    {
     "data": {
      "text/plain": [
       "(60000, 28, 28, 1)"
      ]
     },
     "execution_count": 62,
     "metadata": {},
     "output_type": "execute_result"
    }
   ],
   "source": [
    "xtrain=xtrain.reshape(60000,28,28,1)\n",
    "xtrain.shape"
   ]
  },
  {
   "cell_type": "code",
   "execution_count": 63,
   "id": "e0287247",
   "metadata": {},
   "outputs": [],
   "source": [
    "xtest=xtest.reshape(10000,28,28,1)"
   ]
  },
  {
   "cell_type": "code",
   "execution_count": 64,
   "id": "95ed261d",
   "metadata": {},
   "outputs": [],
   "source": [
    "ytrain=to_categorical(ytrain)\n",
    "ytest=to_categorical(ytest)"
   ]
  },
  {
   "cell_type": "code",
   "execution_count": 65,
   "id": "5c15922b",
   "metadata": {},
   "outputs": [
    {
     "data": {
      "text/plain": [
       "<matplotlib.image.AxesImage at 0x233add48880>"
      ]
     },
     "execution_count": 65,
     "metadata": {},
     "output_type": "execute_result"
    },
    {
     "data": {
      "image/png": "[encoded data removed]",
      "text/plain": [
       "<Figure size 432x288 with 1 Axes>"
      ]
     },
     "metadata": {
      "needs_background": "light"
     },
     "output_type": "display_data"
    }
   ],
   "source": [
    "plt.imshow(xtrain[0])"
   ]
  },
  {
   "cell_type": "code",
   "execution_count": 68,
   "id": "bf3771d8",
   "metadata": {},
   "outputs": [],
   "source": [
    "model=Sequential()\n",
    "#CNN\n",
    "model.add(Conv2D(64,kernel_size=(3,3),activation='relu',input_shape=(28,28,1)))\n",
    "model.add(MaxPooling2D((2,2)))\n",
    "\n",
    "model.add(Conv2D(32,kernel_size=(3,3),activation='relu'))\n",
    "model.add(MaxPooling2D((2,2)))\n",
    "\n",
    "\n",
    "model.add(Flatten())\n",
    "model.add(Dense(50,activation='relu'))\n",
    "model.add(Dense(10,activation='softmax'))"
   ]
  },
  {
   "cell_type": "code",
   "execution_count": 69,
   "id": "16e7fb39",
   "metadata": {},
   "outputs": [],
   "source": [
    "model.compile(optimizer='adam',loss='categorical_crossentropy',metrics=['accuracy'])"
   ]
  },
  {
   "cell_type": "code",
   "execution_count": 74,
   "id": "d56e3e39",
   "metadata": {},
   "outputs": [
    {
     "name": "stdout",
     "output_type": "stream",
     "text": [
      "Epoch 1/3\n",
      "1313/1313 [==============================] - 31s 23ms/step - loss: 0.0318 - accuracy: 0.9903 - val_loss: 0.0850 - val_accuracy: 0.9793\n",
      "Epoch 2/3\n",
      "1313/1313 [==============================] - 30s 23ms/step - loss: 0.0276 - accuracy: 0.9912 - val_loss: 0.0886 - val_accuracy: 0.9793\n",
      "Epoch 3/3\n",
      "1313/1313 [==============================] - 30s 23ms/step - loss: 0.0266 - accuracy: 0.9911 - val_loss: 0.0769 - val_accuracy: 0.9814\n"
     ]
    }
   ],
   "source": [
    "fit=model.fit(xtrain,ytrain,epochs=3,validation_split=0.3)"
   ]
  },
  {
   "cell_type": "code",
   "execution_count": 75,
   "id": "047da6ce",
   "metadata": {},
   "outputs": [
    {
     "name": "stdout",
     "output_type": "stream",
     "text": [
      "313/313 [==============================] - 3s 8ms/step\n"
     ]
    },
    {
     "data": {
      "text/plain": [
       "array([[8.0528349e-17, 6.2879413e-09, 5.4406906e-09, ..., 1.0000000e+00,\n",
       "        3.1894797e-13, 2.5296484e-10],\n",
       "       [2.1027686e-09, 7.3270052e-09, 1.0000000e+00, ..., 2.2629239e-08,\n",
       "        8.9489614e-12, 4.6756089e-13],\n",
       "       [7.6249818e-10, 1.0000000e+00, 1.2613911e-09, ..., 9.0456670e-11,\n",
       "        5.2606531e-08, 1.0803750e-12],\n",
       "       ...,\n",
       "       [3.0207305e-16, 6.4110076e-12, 2.7967045e-16, ..., 6.7801111e-08,\n",
       "        1.9535575e-09, 2.5949782e-09],\n",
       "       [8.3189819e-13, 1.9477877e-14, 2.0779692e-11, ..., 8.7440728e-11,\n",
       "        6.6002480e-07, 3.4396672e-07],\n",
       "       [5.7895544e-08, 2.5330634e-12, 4.5174384e-09, ..., 6.5618367e-16,\n",
       "        9.4059773e-09, 1.5906956e-09]], dtype=float32)"
      ]
     },
     "execution_count": 75,
     "metadata": {},
     "output_type": "execute_result"
    }
   ],
   "source": [
    "model.predict(xtest)"
   ]
  },
  {
   "cell_type": "code",
   "execution_count": 76,
   "id": "87f606ac",
   "metadata": {},
   "outputs": [
    {
     "data": {
      "text/plain": [
       "<AxesSubplot:>"
      ]
     },
     "execution_count": 76,
     "metadata": {},
     "output_type": "execute_result"
    },
    {
     "data": {
      "image/png": "[encoded data removed]",
      "text/plain": [
       "<Figure size 720x432 with 1 Axes>"
      ]
     },
     "metadata": {
      "needs_background": "light"
     },
     "output_type": "display_data"
    }
   ],
   "source": [
    "pd.DataFrame(fit.history).plot(figsize=(10,6))"
   ]
  },
  {
   "cell_type": "code",
   "execution_count": null,
   "id": "7babb549",
   "metadata": {},
   "outputs": [],
   "source": []
  }
 ],
 "metadata": {
  "kernelspec": {
   "display_name": "Python 3 (ipykernel)",
   "language": "python",
   "name": "python3"
  },
  "language_info": {
   "codemirror_mode": {
    "name": "ipython",
    "version": 3
   },
   "file_extension": ".py",
   "mimetype": "text/x-python",
   "name": "python",
   "nbconvert_exporter": "python",
   "pygments_lexer": "ipython3",
   "version": "3.9.12"
  }
 },
 "nbformat": 4,
 "nbformat_minor": 5
}
